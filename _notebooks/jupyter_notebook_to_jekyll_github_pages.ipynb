{
 "cells": [
  {
   "cell_type": "markdown",
   "id": "384c4c69",
   "metadata": {},
   "source": [
    "## Background ##"
   ]
  },
  {
   "cell_type": "markdown",
   "id": "a291a1fc",
   "metadata": {},
   "source": [
    "I wanted to have a personal technical blog to share my learnings. While I initially used Github pages, I attempted to create everything from scratch, resulting in a blog that looked extremely crude. This led me to explore alternatives."
   ]
  },
  {
   "cell_type": "markdown",
   "id": "2751d17f",
   "metadata": {},
   "source": [
    "#### My crude looking blog! ####"
   ]
  },
  {
   "cell_type": "markdown",
   "id": "e4064a75",
   "metadata": {},
   "source": [
    "![png](earlier_blog.png \"Earlier blog\")\n"
   ]
  },
  {
   "cell_type": "markdown",
   "id": "ec314d9a",
   "metadata": {},
   "source": [
    "## Context ##"
   ]
  },
  {
   "cell_type": "markdown",
   "id": "47194ec4",
   "metadata": {},
   "source": [
    "Recently, I discovered [Jekyll](https://jekyllrb.com/), a static site generator with built-in support for Github Pages. While exploring, I found [jekyll forever](https://github.com/forever-jekyll/forever-jekyll), a theme-template-boilerplate for Jekyll. Setting up a blog with it is remarkably simple and straightforward – justclone the repository and follow the steps outlined in the ReadMe file. Creating a new blog post is just as easy – write your content in markdown format, paste it into the _posts/ folder, commit, and voila! Your post appears on the blog instantly."
   ]
  },
  {
   "cell_type": "markdown",
   "id": "c9bce0de",
   "metadata": {},
   "source": [
    "Jekyll supports markdown and HTML formats. However, in Machine Learning, where we often work with Jupyter notebooks, I faced the challenge of converting ipynb files into blog posts. I came across a helpful [blog post](https://jaketae.github.io/blog/jupyter-automation) that addressed this issue, getting almost everything right. However, there were a few issues and additional manual steps involved. To streamline the process, I rewrote the entire solution in Python. Now, the conversion from ipynb to a blog post can be accomplished with a single command. You can find the Python script [here](https://gist.github.com/chittiman/0ff85442c69dc5a9dc5db04b737a379b). Let me walk you through the code below."
   ]
  },
  {
   "cell_type": "markdown",
   "id": "9127851f",
   "metadata": {},
   "source": [
    "## File Structure ##"
   ]
  },
  {
   "cell_type": "markdown",
   "id": "f54d4ac0",
   "metadata": {},
   "source": [
    "Below is the file structure of the root folder. The notebooks intended for publication should be placed in the **_notebooks** folder. Upon running the script, corresponding markdown files will be generated and stored in the **_posts** folder. In case there are graphs in the notebook, a folder with the same file name will be created. This folder will then be moved to the **assets/image** directory."
   ]
  },
  {
   "cell_type": "code",
   "execution_count": null,
   "id": "132b314c",
   "metadata": {},
   "outputs": [],
   "source": [
    "cur_dir = Path.cwd()\n",
    "nb_dir = cur_dir / '_notebooks' # notebooks folder\n",
    "md_dir = cur_dir / '_posts' # posts folder\n",
    "imgs_dir = cur_dir / 'assets' / 'image' #images folder"
   ]
  },
  {
   "cell_type": "markdown",
   "id": "d4a3bc2c",
   "metadata": {},
   "source": [
    "![png](file_structure.png \"file_structure\")\n"
   ]
  },
  {
   "cell_type": "markdown",
   "id": "7e889967",
   "metadata": {},
   "source": [
    "## Step 1 - Convert Notebooks to Markdown: ##"
   ]
  },
  {
   "cell_type": "markdown",
   "id": "06b8c7b0",
   "metadata": {},
   "source": [
    "The **nbconvert** module, included with Jupyter Notebook, facilitates the conversion of .ipynb files to .md files while extracting graphs and images from the notebooks. These images and graphs are then stored in a separate folder."
   ]
  },
  {
   "cell_type": "code",
   "execution_count": null,
   "id": "6c29283c",
   "metadata": {},
   "outputs": [],
   "source": [
    "cmd = f\"jupyter nbconvert --to markdown {args.file}\"\n",
    "subprocess.run(cmd, shell=True)"
   ]
  },
  {
   "cell_type": "markdown",
   "id": "a67bfbc1",
   "metadata": {},
   "source": [
    "## Step 2 - Relocating Images to the Appropriate Location: ##"
   ]
  },
  {
   "cell_type": "markdown",
   "id": "b9392873",
   "metadata": {},
   "source": [
    "The extracted images, currently residing in the **_notebooks** folder, need to be moved to the **assets/image** folder. An if condition is in place to address cases where there are no graphs in the .ipynb file."
   ]
  },
  {
   "cell_type": "code",
   "execution_count": null,
   "id": "f1d1f425",
   "metadata": {},
   "outputs": [],
   "source": [
    "notebook = Path(args.file)\n",
    "file_prefix = notebook.name.replace('.ipynb', '')\n",
    "\n",
    "#Moving images folder to right place\n",
    "img_dir = nb_dir / f'{file_prefix}_files'\n",
    "new_img_dir = imgs_dir / img_dir.name\n",
    "if img_dir.exists():\n",
    "    img_dir.rename(new_img_dir)\n",
    "else:\n",
    "    new_img_dir.mkdir(exist_ok=True)"
   ]
  },
  {
   "cell_type": "markdown",
   "id": "dc2d0fec",
   "metadata": {},
   "source": [
    "## Step 3 - Standardizing Markdown File Names: ##"
   ]
  },
  {
   "cell_type": "markdown",
   "id": "769e2952",
   "metadata": {},
   "source": [
    "To comply with Jekyll's naming convention **(YYYY-MM-DD-text.md)**, I'm standardizing the file names. The text provided here becomes part of the blog post URL. Once the markdown text is cleaned, it is then written to the **_posts** folder.\n",
    "\n",
    "**Ex**: 2021-07-15-hello-world.md \\\n",
    "**URL**: blog_name.github.io/hello-world"
   ]
  },
  {
   "cell_type": "code",
   "execution_count": null,
   "id": "493e8f7e",
   "metadata": {},
   "outputs": [],
   "source": [
    "md_file = nb_dir / f'{file_prefix}.md'\n",
    "clean_md_name = re.sub(r'[\\s_]', '-',md_file.name).lower()\n",
    "#replacing space and _ with -\n",
    "new_md_name = f'{args.date}-{clean_md_name}'\n",
    "new_md_file = md_dir / new_md_name"
   ]
  },
  {
   "cell_type": "markdown",
   "id": "c81b3c8b",
   "metadata": {},
   "source": [
    "## Step 4 - Adding Front Matter: ##"
   ]
  },
  {
   "cell_type": "markdown",
   "id": "f68675fd",
   "metadata": {},
   "source": [
    "Jekyll requires front matter at the start of our markdown files. This metadata, including title and tags, follows a specific format. I've created a simple function to extract information from command line arguments and convert it into the required front matter."
   ]
  },
  {
   "cell_type": "markdown",
   "id": "51ad15b8",
   "metadata": {},
   "source": [
    "![png](front_matter_format.png \"front_matter\")\n"
   ]
  },
  {
   "cell_type": "code",
   "execution_count": null,
   "id": "f1d1152b",
   "metadata": {},
   "outputs": [],
   "source": [
    "def get_front_matter(args):\n",
    "    cat_str = ', '.join(args.categories)\n",
    "    layout = f\"\"\"\n",
    "---\n",
    "layout: post\n",
    "title: {args.title}\n",
    "categories: [{cat_str}]\n",
    "---\n",
    "\"\"\""
   ]
  },
  {
   "cell_type": "markdown",
   "id": "4cd2ae6d",
   "metadata": {},
   "source": [
    "## Step 5 - Fixing Image Paths: ##\n"
   ]
  },
  {
   "cell_type": "markdown",
   "id": "8a449ca9",
   "metadata": {},
   "source": [
    "As we move both the image folder and markdown files, it's crucial to correct the image paths inside the markdown file. Using a simple regex function, we insert **{{site.baseurl}}/assets/image/** behind the previous path to ensure accurate referencing."
   ]
  },
  {
   "cell_type": "code",
   "execution_count": null,
   "id": "6d8f4385",
   "metadata": {},
   "outputs": [],
   "source": [
    "text = re.sub(r'(!\\[png\\]\\()(.*)\\)',r'\\1{{site.baseurl}}/assets/image/\\2)' ,text)\n",
    "#Correcting assets folder path"
   ]
  },
  {
   "cell_type": "markdown",
   "id": "2fee81c8",
   "metadata": {},
   "source": [
    "## Step 6 - Wrapping Up: ##"
   ]
  },
  {
   "cell_type": "markdown",
   "id": "b289ec99",
   "metadata": {},
   "source": [
    "The cleaned text with added front matter is saved in a .md file within the 'posts' folder, concluding the process. The raw markdown file is then deleted."
   ]
  },
  {
   "cell_type": "code",
   "execution_count": null,
   "id": "acada70b",
   "metadata": {},
   "outputs": [],
   "source": [
    "# Adding front matter at the start\n",
    "front_matter = get_front_matter(args)\n",
    "clean_text = front_matter + \"\\n\\n\" + text\n",
    "write_file(tgt_file,clean_text)\n",
    "\n",
    "#Deleting raw .md file\n",
    "md_file.unlink()"
   ]
  },
  {
   "cell_type": "markdown",
   "id": "5d4d79d7",
   "metadata": {},
   "source": [
    "## Step 7 - How to Execute: ##"
   ]
  },
  {
   "cell_type": "markdown",
   "id": "16c8c9d8",
   "metadata": {},
   "source": [
    "Start by creating a **_notebooks** folder within the root directory and placing your ipynb file there. Ensure this folder is added to the exclude section in the 'config.yml' file.\n",
    "\n",
    "[Link to Python script](https://gist.github.com/chittiman/0ff85442c69dc5a9dc5db04b737a379b): Place this script in the root folderand run the command in the following format from the root folder."
   ]
  },
  {
   "cell_type": "code",
   "execution_count": null,
   "id": "24d51906",
   "metadata": {},
   "outputs": [],
   "source": [
    "python ./ipynb_to_md.py \n",
    "        -file ./_notebooks/test.ipynb\n",
    "        -title \"test post\"\n",
    "        -date \"2024-01-02\"\n",
    "        -categories \"testing\" \"experimenting\""
   ]
  }
 ],
 "metadata": {
  "kernelspec": {
   "display_name": "Python 3 (ipykernel)",
   "language": "python",
   "name": "python3"
  },
  "language_info": {
   "codemirror_mode": {
    "name": "ipython",
    "version": 3
   },
   "file_extension": ".py",
   "mimetype": "text/x-python",
   "name": "python",
   "nbconvert_exporter": "python",
   "pygments_lexer": "ipython3",
   "version": "3.11.7"
  }
 },
 "nbformat": 4,
 "nbformat_minor": 5
}
