{
 "cells": [
  {
   "cell_type": "markdown",
   "id": "6a8fc8b0",
   "metadata": {},
   "source": [
    "# Convert Jupyter notebooks to Jekyll Blog Posts"
   ]
  },
  {
   "cell_type": "markdown",
   "id": "384c4c69",
   "metadata": {},
   "source": [
    "## Background ##"
   ]
  },
  {
   "cell_type": "markdown",
   "id": "a291a1fc",
   "metadata": {},
   "source": [
    "I wanted to have a personal technical blog where I can publish my learnings. I used Github pages earlier but I tried to do create everything from scratch. I was left with a blog which looked extremely crude.So, I was in search of alternatives."
   ]
  },
  {
   "cell_type": "markdown",
   "id": "2751d17f",
   "metadata": {},
   "source": [
    "### My crude looking blog! ###"
   ]
  },
  {
   "cell_type": "markdown",
   "id": "e4064a75",
   "metadata": {},
   "source": [
    "![png](earlier_blog.png \"Earlier blog\")\n"
   ]
  },
  {
   "cell_type": "markdown",
   "id": "ec314d9a",
   "metadata": {},
   "source": [
    "## Context ##"
   ]
  },
  {
   "cell_type": "markdown",
   "id": "47194ec4",
   "metadata": {},
   "source": [
    "Recently, I found out about [jekyll forever](https://github.com/forever-jekyll/forever-jekyll) and the process of setting up a blog is really simple and straightforward. You just have to clone the repo and follow the steps mentioned in the ReadMe file. To create a new blog post, you just have to write down the blog in markdown format and paste it in the _posts/ folder and push commit. Your post appears on the blog instantly. But, jekyll supports markdown and html formats. Since, in Machine Learning we deal with jupyter notebooks day-to-day, I needed to figure out a way to  convert ipynb files into blog posts."
   ]
  },
  {
   "cell_type": "markdown",
   "id": "566592ba",
   "metadata": {},
   "source": [
    "I have found a [blog](https://jaketae.github.io/blog/jupyter-automation) which solves the issue. It gets almost all things right except for a few issues and some additional manual steps. I have rewritten everything in Python, so that the conversion from ipynb to blog post can happen in a single command. You can find the python script [here](https://gist.github.com/chittiman/0ff85442c69dc5a9dc5db04b737a379b). I will explain the code below"
   ]
  },
  {
   "cell_type": "markdown",
   "id": "9127851f",
   "metadata": {},
   "source": [
    "## File Structure ##"
   ]
  },
  {
   "cell_type": "markdown",
   "id": "f54d4ac0",
   "metadata": {},
   "source": [
    "Present below is the file structure of the root folder. The notebooks we want to publish have to be placed in notebooks folder. Once we run the script, corresponding markdown files will appear in posts folder. If any images or graphs are present in the notebook, they will be stored in a folder with same file name. And this folder finally will be shifted to assets/image folder"
   ]
  },
  {
   "cell_type": "code",
   "execution_count": null,
   "id": "132b314c",
   "metadata": {},
   "outputs": [],
   "source": [
    "cur_dir = Path.cwd()\n",
    "nb_dir = cur_dir / '_notebooks' # notebooks folder\n",
    "md_dir = cur_dir / '_posts' # posts folder\n",
    "imgs_dir = cur_dir / 'assets' / 'image' #images folder"
   ]
  },
  {
   "cell_type": "markdown",
   "id": "d4a3bc2c",
   "metadata": {},
   "source": [
    "![png](file_structure.png \"file_structure\")\n"
   ]
  },
  {
   "cell_type": "markdown",
   "id": "7e889967",
   "metadata": {},
   "source": [
    "## Step 1 - Notebook to markdown conversion ##"
   ]
  },
  {
   "cell_type": "markdown",
   "id": "06b8c7b0",
   "metadata": {},
   "source": [
    "For this, nbconvert module which comes bundled with jupyter notebook is handy. It converts .ipynb files to .md files and extracts images/graphs in notebooks and stores them in separate folder."
   ]
  },
  {
   "cell_type": "code",
   "execution_count": null,
   "id": "6c29283c",
   "metadata": {},
   "outputs": [],
   "source": [
    "cmd = f\"jupyter nbconvert --to markdown {args.file}\"\n",
    "subprocess.run(cmd, shell=True)"
   ]
  },
  {
   "cell_type": "markdown",
   "id": "a67bfbc1",
   "metadata": {},
   "source": [
    "## Step 2 - Moving images to appropriate location ##"
   ]
  },
  {
   "cell_type": "markdown",
   "id": "b9392873",
   "metadata": {},
   "source": [
    "Extracted images which are currently in the notebooks folder have to be shifted to assets/image folder. If condition exists for a case where there are no images in ipynb file."
   ]
  },
  {
   "cell_type": "code",
   "execution_count": null,
   "id": "f1d1f425",
   "metadata": {},
   "outputs": [],
   "source": [
    "notebook = Path(args.file)\n",
    "file_prefix = notebook.name.replace('.ipynb', '')\n",
    "\n",
    "#Moving images folder to right place\n",
    "img_dir = nb_dir / f'{file_prefix}_files'\n",
    "new_img_dir = imgs_dir / img_dir.name\n",
    "if img_dir.exists():\n",
    "    img_dir.rename(new_img_dir)"
   ]
  },
  {
   "cell_type": "markdown",
   "id": "dc2d0fec",
   "metadata": {},
   "source": [
    "## Step 3 - Moving images to appropriate location ##"
   ]
  },
  {
   "cell_type": "markdown",
   "id": "769e2952",
   "metadata": {},
   "source": [
    "Jekyll follows a strict naming convention for the markdown file. File name has to start with date in YYYY-MM-DD format followed by text. So, I am standardizing the file name.This text will be in the url of the blogpost. Since my markdown file finally has to be in posts folder,I'm creating a new path so that I can write the cleaned markdown text there. \\\n",
    "Ex: 2021-07-15-hello-world.md"
   ]
  },
  {
   "cell_type": "code",
   "execution_count": null,
   "id": "493e8f7e",
   "metadata": {},
   "outputs": [],
   "source": [
    "md_file = nb_dir / f'{file_prefix}.md'\n",
    "clean_md_name = re.sub(r'[\\s_]', '-',md_file.name).lower()\n",
    "#replacing space and _ with -\n",
    "new_md_name = f'{args.date}-{clean_md_name}'\n",
    "new_md_file = md_dir / new_md_name"
   ]
  },
  {
   "cell_type": "markdown",
   "id": "c81b3c8b",
   "metadata": {},
   "source": [
    "## Step 4 - Creating the front matter ##"
   ]
  },
  {
   "cell_type": "markdown",
   "id": "f68675fd",
   "metadata": {},
   "source": [
    "At the start of markdown file we want to publish,jekyll expects frontmatter. Frontmatter is metadata like title and tagshas in a particular format. I wrote a simple function to extract the relevant information from cmd line arguments and convert them into front matter."
   ]
  },
  {
   "cell_type": "markdown",
   "id": "51ad15b8",
   "metadata": {},
   "source": [
    "![png](front_matter_format.png \"front_matter\")\n"
   ]
  },
  {
   "cell_type": "code",
   "execution_count": null,
   "id": "f1d1152b",
   "metadata": {},
   "outputs": [],
   "source": [
    "def get_front_matter(args):\n",
    "    cat_str = ', '.join(args.categories)\n",
    "    layout = f\"\"\"\n",
    "---\n",
    "layout: post\n",
    "title: {args.title}\n",
    "categories: [{cat_str}]\n",
    "---\n",
    "\"\"\""
   ]
  },
  {
   "cell_type": "markdown",
   "id": "4cd2ae6d",
   "metadata": {},
   "source": [
    "## Step 5 - Correcting image paths inside ##\n"
   ]
  },
  {
   "cell_type": "markdown",
   "id": "8a449ca9",
   "metadata": {},
   "source": [
    "Since we are going to move the image folder and markdown files, the image paths inside the markdown file have to point to new location. We use simple regex function to correct these paths. \\\n",
    "**{{site.baseurl}}/assets/image/** is inserted behind the earlier path to correct it."
   ]
  },
  {
   "cell_type": "code",
   "execution_count": null,
   "id": "6d8f4385",
   "metadata": {},
   "outputs": [],
   "source": [
    "text = re.sub(r'(!\\[png\\]\\()(.*)\\)',r'\\1{{site.baseurl}}/assets/image/\\2)' ,text)\n",
    "#Correcting assets folder path"
   ]
  },
  {
   "cell_type": "markdown",
   "id": "2fee81c8",
   "metadata": {},
   "source": [
    "## Step 6 - Tying up all loose ends ##"
   ]
  },
  {
   "cell_type": "markdown",
   "id": "b289ec99",
   "metadata": {},
   "source": [
    "Front matter is added at the start to this cleaned text and this text is written in .md file in posts folder. And the raw markdown file is deleted. "
   ]
  },
  {
   "cell_type": "code",
   "execution_count": null,
   "id": "acada70b",
   "metadata": {},
   "outputs": [],
   "source": [
    "# Adding front matter at the start\n",
    "front_matter = get_front_matter(args)\n",
    "clean_text = front_matter + \"\\n\\n\" + text\n",
    "write_file(tgt_file,clean_text)\n",
    "\n",
    "#Deleting raw .md file\n",
    "md_file.unlink()"
   ]
  },
  {
   "cell_type": "markdown",
   "id": "5d4d79d7",
   "metadata": {},
   "source": [
    "## Step 7 - How to run ?? ##"
   ]
  },
  {
   "cell_type": "markdown",
   "id": "16c8c9d8",
   "metadata": {},
   "source": [
    "First create **_notebooks** folder inside the root directory and place your ipynb file there. Add this folder to exclude section in config.yml file. \\\n",
    "\n",
    "Place this [python script](https://gist.github.com/chittiman/0ff85442c69dc5a9dc5db04b737a379b) inside the root folder. Make sure nbconvert is already installed. Run the cmd in the below format from root folder. "
   ]
  },
  {
   "cell_type": "code",
   "execution_count": null,
   "id": "24d51906",
   "metadata": {},
   "outputs": [],
   "source": [
    "python ./ipynb_to_md.py \n",
    "        -file ./_notebooks/test.ipynb\n",
    "        -title \"test post\"\n",
    "        -date \"2024-01-02\"\n",
    "        -categories \"testing\" \"experimenting\""
   ]
  }
 ],
 "metadata": {
  "kernelspec": {
   "display_name": "Python 3 (ipykernel)",
   "language": "python",
   "name": "python3"
  },
  "language_info": {
   "codemirror_mode": {
    "name": "ipython",
    "version": 3
   },
   "file_extension": ".py",
   "mimetype": "text/x-python",
   "name": "python",
   "nbconvert_exporter": "python",
   "pygments_lexer": "ipython3",
   "version": "3.11.7"
  }
 },
 "nbformat": 4,
 "nbformat_minor": 5
}
